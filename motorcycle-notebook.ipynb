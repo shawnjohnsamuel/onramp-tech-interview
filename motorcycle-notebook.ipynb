{
 "cells": [
  {
   "cell_type": "markdown",
   "metadata": {},
   "source": [
    "# Onramp Twitch Data Science Apprenticeship\n",
    "Technical Interview - Guided Case Study\n",
    "## Business Problem\n",
    "You are a data scientist working for a motorcycle company. The CEO has asked you to come up with a new marketing strategy based on the sales data you've collected over the years. You'll need to show how you would prepare and process the data, how you would analyze the data, and how you would come up with the strategy and report for the CEO."
   ]
  },
  {
   "cell_type": "markdown",
   "metadata": {},
   "source": [
    "### Gain Context\n",
    "- Is this a physical store only? Do they have an e-commerce element to their business? \n",
    "- Is there an issue with marketing that is trying to be fixed or is this just an attempt to try something new?\n",
    "- What has been the success metric for marketing plans thus far?\n",
    "- What are their main marketing channels?\n",
    "- Historically have marketing campaigns lasted a certain length? This could be either due to effectiveness or financial. If answer not known, I did a bit of research and the common benchmark seems to be to monthly or quarterly. Because we don't have a lot of data - perhaps we do monthly.\n",
    "\n",
    "### Clarifying Business Impact Metric\n",
    "What is the goal of the new marketing strategy? What Key Performance Indicator (KPI) should we maximize:\n",
    "- Revenue growth. If so what frequency makes the most sense - daily, monthly, quarterly, annual? Only issue here is looking through the data we really don't have info about expenses so we can't look at profit.\n",
    "- Increase number of customers. Same question about frequency.\n",
    "- Increase number of products sold? All products or certain products?\n",
    "- I suggest we combine the first two and use **revenue per client** (total revenue in given time period divided by number of clients"
   ]
  },
  {
   "cell_type": "markdown",
   "metadata": {},
   "source": [
    "## Data Understanding"
   ]
  },
  {
   "cell_type": "code",
   "execution_count": 158,
   "metadata": {
    "ExecuteTime": {
     "end_time": "2022-06-15T01:25:36.517505Z",
     "start_time": "2022-06-15T01:25:36.493890Z"
    }
   },
   "outputs": [],
   "source": [
    "import pandas as pd\n",
    "import numpy as np\n",
    "import matplotlib.pyplot as plt\n",
    "%matplotlib inline"
   ]
  },
  {
   "cell_type": "code",
   "execution_count": 159,
   "metadata": {
    "ExecuteTime": {
     "end_time": "2022-06-15T01:25:36.592034Z",
     "start_time": "2022-06-15T01:25:36.523762Z"
    }
   },
   "outputs": [],
   "source": [
    "df = pd.read_csv('moto_sample_sales.csv')\n",
    "pd.set_option('display.max_columns', None)"
   ]
  },
  {
   "cell_type": "code",
   "execution_count": 160,
   "metadata": {
    "ExecuteTime": {
     "end_time": "2022-06-15T01:25:36.628311Z",
     "start_time": "2022-06-15T01:25:36.595156Z"
    }
   },
   "outputs": [
    {
     "data": {
      "text/html": [
       "<div>\n",
       "<style scoped>\n",
       "    .dataframe tbody tr th:only-of-type {\n",
       "        vertical-align: middle;\n",
       "    }\n",
       "\n",
       "    .dataframe tbody tr th {\n",
       "        vertical-align: top;\n",
       "    }\n",
       "\n",
       "    .dataframe thead th {\n",
       "        text-align: right;\n",
       "    }\n",
       "</style>\n",
       "<table border=\"1\" class=\"dataframe\">\n",
       "  <thead>\n",
       "    <tr style=\"text-align: right;\">\n",
       "      <th></th>\n",
       "      <th>ORDERNUMBER</th>\n",
       "      <th>QUANTITYORDERED</th>\n",
       "      <th>PRICEEACH</th>\n",
       "      <th>ORDERLINENUMBER</th>\n",
       "      <th>SALES</th>\n",
       "      <th>ORDERDATE</th>\n",
       "      <th>STATUS</th>\n",
       "      <th>QTR_ID</th>\n",
       "      <th>MONTH_ID</th>\n",
       "      <th>YEAR_ID</th>\n",
       "      <th>PRODUCTLINE</th>\n",
       "      <th>MSRP</th>\n",
       "      <th>PRODUCTCODE</th>\n",
       "      <th>CUSTOMERNAME</th>\n",
       "      <th>PHONE</th>\n",
       "      <th>ADDRESSLINE1</th>\n",
       "      <th>ADDRESSLINE2</th>\n",
       "      <th>CITY</th>\n",
       "      <th>STATE</th>\n",
       "      <th>POSTALCODE</th>\n",
       "      <th>COUNTRY</th>\n",
       "      <th>TERRITORY</th>\n",
       "      <th>CONTACTLASTNAME</th>\n",
       "      <th>CONTACTFIRSTNAME</th>\n",
       "      <th>DEALSIZE</th>\n",
       "    </tr>\n",
       "  </thead>\n",
       "  <tbody>\n",
       "    <tr>\n",
       "      <th>0</th>\n",
       "      <td>10107</td>\n",
       "      <td>30</td>\n",
       "      <td>95.70</td>\n",
       "      <td>2</td>\n",
       "      <td>2871.00</td>\n",
       "      <td>2/24/2003 0:00</td>\n",
       "      <td>Shipped</td>\n",
       "      <td>1</td>\n",
       "      <td>2</td>\n",
       "      <td>2003</td>\n",
       "      <td>Motorcycles</td>\n",
       "      <td>95</td>\n",
       "      <td>S10_1678</td>\n",
       "      <td>Land of Toys Inc.</td>\n",
       "      <td>2.13E+09</td>\n",
       "      <td>897 Long Airport Avenue</td>\n",
       "      <td>NaN</td>\n",
       "      <td>NYC</td>\n",
       "      <td>NY</td>\n",
       "      <td>10022</td>\n",
       "      <td>USA</td>\n",
       "      <td>NaN</td>\n",
       "      <td>Yu</td>\n",
       "      <td>Kwai</td>\n",
       "      <td>Small</td>\n",
       "    </tr>\n",
       "    <tr>\n",
       "      <th>1</th>\n",
       "      <td>10121</td>\n",
       "      <td>34</td>\n",
       "      <td>81.35</td>\n",
       "      <td>5</td>\n",
       "      <td>2765.90</td>\n",
       "      <td>5/7/2003 0:00</td>\n",
       "      <td>Shipped</td>\n",
       "      <td>2</td>\n",
       "      <td>5</td>\n",
       "      <td>2003</td>\n",
       "      <td>Motorcycles</td>\n",
       "      <td>95</td>\n",
       "      <td>S10_1678</td>\n",
       "      <td>Reims Collectables</td>\n",
       "      <td>26.47.1555</td>\n",
       "      <td>59 rue de l'Abbaye</td>\n",
       "      <td>NaN</td>\n",
       "      <td>Reims</td>\n",
       "      <td>NaN</td>\n",
       "      <td>51100</td>\n",
       "      <td>France</td>\n",
       "      <td>EMEA</td>\n",
       "      <td>Henriot</td>\n",
       "      <td>Paul</td>\n",
       "      <td>Small</td>\n",
       "    </tr>\n",
       "    <tr>\n",
       "      <th>2</th>\n",
       "      <td>10134</td>\n",
       "      <td>41</td>\n",
       "      <td>94.74</td>\n",
       "      <td>2</td>\n",
       "      <td>3884.34</td>\n",
       "      <td>7/1/2003 0:00</td>\n",
       "      <td>Shipped</td>\n",
       "      <td>3</td>\n",
       "      <td>7</td>\n",
       "      <td>2003</td>\n",
       "      <td>Motorcycles</td>\n",
       "      <td>95</td>\n",
       "      <td>S10_1678</td>\n",
       "      <td>Lyon Souveniers</td>\n",
       "      <td>#ERROR!</td>\n",
       "      <td>27 rue du Colonel Pierre Avia</td>\n",
       "      <td>NaN</td>\n",
       "      <td>Paris</td>\n",
       "      <td>NaN</td>\n",
       "      <td>75508</td>\n",
       "      <td>France</td>\n",
       "      <td>EMEA</td>\n",
       "      <td>Da Cunha</td>\n",
       "      <td>Daniel</td>\n",
       "      <td>Medium</td>\n",
       "    </tr>\n",
       "    <tr>\n",
       "      <th>3</th>\n",
       "      <td>10145</td>\n",
       "      <td>45</td>\n",
       "      <td>83.26</td>\n",
       "      <td>6</td>\n",
       "      <td>3746.70</td>\n",
       "      <td>8/25/2003 0:00</td>\n",
       "      <td>Shipped</td>\n",
       "      <td>3</td>\n",
       "      <td>8</td>\n",
       "      <td>2003</td>\n",
       "      <td>Motorcycles</td>\n",
       "      <td>95</td>\n",
       "      <td>S10_1678</td>\n",
       "      <td>Toys4GrownUps.com</td>\n",
       "      <td>6.27E+09</td>\n",
       "      <td>78934 Hillside Dr.</td>\n",
       "      <td>NaN</td>\n",
       "      <td>Pasadena</td>\n",
       "      <td>CA</td>\n",
       "      <td>90003</td>\n",
       "      <td>USA</td>\n",
       "      <td>NaN</td>\n",
       "      <td>Young</td>\n",
       "      <td>Julie</td>\n",
       "      <td>Medium</td>\n",
       "    </tr>\n",
       "    <tr>\n",
       "      <th>4</th>\n",
       "      <td>10159</td>\n",
       "      <td>49</td>\n",
       "      <td>100.00</td>\n",
       "      <td>14</td>\n",
       "      <td>5205.27</td>\n",
       "      <td>10/10/2003 0:00</td>\n",
       "      <td>Shipped</td>\n",
       "      <td>4</td>\n",
       "      <td>10</td>\n",
       "      <td>2003</td>\n",
       "      <td>Motorcycles</td>\n",
       "      <td>95</td>\n",
       "      <td>S10_1678</td>\n",
       "      <td>Corporate Gift Ideas Co.</td>\n",
       "      <td>6.51E+09</td>\n",
       "      <td>7734 Strong St.</td>\n",
       "      <td>NaN</td>\n",
       "      <td>San Francisco</td>\n",
       "      <td>CA</td>\n",
       "      <td>NaN</td>\n",
       "      <td>USA</td>\n",
       "      <td>NaN</td>\n",
       "      <td>Brown</td>\n",
       "      <td>Julie</td>\n",
       "      <td>Medium</td>\n",
       "    </tr>\n",
       "  </tbody>\n",
       "</table>\n",
       "</div>"
      ],
      "text/plain": [
       "   ORDERNUMBER  QUANTITYORDERED  PRICEEACH  ORDERLINENUMBER    SALES  \\\n",
       "0        10107               30      95.70                2  2871.00   \n",
       "1        10121               34      81.35                5  2765.90   \n",
       "2        10134               41      94.74                2  3884.34   \n",
       "3        10145               45      83.26                6  3746.70   \n",
       "4        10159               49     100.00               14  5205.27   \n",
       "\n",
       "         ORDERDATE   STATUS  QTR_ID  MONTH_ID  YEAR_ID  PRODUCTLINE  MSRP  \\\n",
       "0   2/24/2003 0:00  Shipped       1         2     2003  Motorcycles    95   \n",
       "1    5/7/2003 0:00  Shipped       2         5     2003  Motorcycles    95   \n",
       "2    7/1/2003 0:00  Shipped       3         7     2003  Motorcycles    95   \n",
       "3   8/25/2003 0:00  Shipped       3         8     2003  Motorcycles    95   \n",
       "4  10/10/2003 0:00  Shipped       4        10     2003  Motorcycles    95   \n",
       "\n",
       "  PRODUCTCODE              CUSTOMERNAME       PHONE  \\\n",
       "0    S10_1678         Land of Toys Inc.    2.13E+09   \n",
       "1    S10_1678        Reims Collectables  26.47.1555   \n",
       "2    S10_1678           Lyon Souveniers     #ERROR!   \n",
       "3    S10_1678         Toys4GrownUps.com    6.27E+09   \n",
       "4    S10_1678  Corporate Gift Ideas Co.    6.51E+09   \n",
       "\n",
       "                    ADDRESSLINE1 ADDRESSLINE2           CITY STATE POSTALCODE  \\\n",
       "0        897 Long Airport Avenue          NaN            NYC    NY      10022   \n",
       "1             59 rue de l'Abbaye          NaN          Reims   NaN      51100   \n",
       "2  27 rue du Colonel Pierre Avia          NaN          Paris   NaN      75508   \n",
       "3             78934 Hillside Dr.          NaN       Pasadena    CA      90003   \n",
       "4                7734 Strong St.          NaN  San Francisco    CA        NaN   \n",
       "\n",
       "  COUNTRY TERRITORY CONTACTLASTNAME CONTACTFIRSTNAME DEALSIZE  \n",
       "0     USA       NaN              Yu             Kwai    Small  \n",
       "1  France      EMEA         Henriot             Paul    Small  \n",
       "2  France      EMEA        Da Cunha           Daniel   Medium  \n",
       "3     USA       NaN           Young            Julie   Medium  \n",
       "4     USA       NaN           Brown            Julie   Medium  "
      ]
     },
     "execution_count": 160,
     "metadata": {},
     "output_type": "execute_result"
    }
   ],
   "source": [
    "df.head()"
   ]
  },
  {
   "cell_type": "code",
   "execution_count": 161,
   "metadata": {
    "ExecuteTime": {
     "end_time": "2022-06-15T01:25:36.750029Z",
     "start_time": "2022-06-15T01:25:36.632588Z"
    }
   },
   "outputs": [
    {
     "data": {
      "text/html": [
       "<div>\n",
       "<style scoped>\n",
       "    .dataframe tbody tr th:only-of-type {\n",
       "        vertical-align: middle;\n",
       "    }\n",
       "\n",
       "    .dataframe tbody tr th {\n",
       "        vertical-align: top;\n",
       "    }\n",
       "\n",
       "    .dataframe thead th {\n",
       "        text-align: right;\n",
       "    }\n",
       "</style>\n",
       "<table border=\"1\" class=\"dataframe\">\n",
       "  <thead>\n",
       "    <tr style=\"text-align: right;\">\n",
       "      <th></th>\n",
       "      <th>ORDERNUMBER</th>\n",
       "      <th>QUANTITYORDERED</th>\n",
       "      <th>PRICEEACH</th>\n",
       "      <th>ORDERLINENUMBER</th>\n",
       "      <th>SALES</th>\n",
       "      <th>ORDERDATE</th>\n",
       "      <th>STATUS</th>\n",
       "      <th>QTR_ID</th>\n",
       "      <th>MONTH_ID</th>\n",
       "      <th>YEAR_ID</th>\n",
       "      <th>PRODUCTLINE</th>\n",
       "      <th>MSRP</th>\n",
       "      <th>PRODUCTCODE</th>\n",
       "      <th>CUSTOMERNAME</th>\n",
       "      <th>PHONE</th>\n",
       "      <th>ADDRESSLINE1</th>\n",
       "      <th>ADDRESSLINE2</th>\n",
       "      <th>CITY</th>\n",
       "      <th>STATE</th>\n",
       "      <th>POSTALCODE</th>\n",
       "      <th>COUNTRY</th>\n",
       "      <th>TERRITORY</th>\n",
       "      <th>CONTACTLASTNAME</th>\n",
       "      <th>CONTACTFIRSTNAME</th>\n",
       "      <th>DEALSIZE</th>\n",
       "    </tr>\n",
       "  </thead>\n",
       "  <tbody>\n",
       "    <tr>\n",
       "      <th>2818</th>\n",
       "      <td>10350</td>\n",
       "      <td>20</td>\n",
       "      <td>100.00</td>\n",
       "      <td>15</td>\n",
       "      <td>2244.40</td>\n",
       "      <td>12/2/2004 0:00</td>\n",
       "      <td>Shipped</td>\n",
       "      <td>4</td>\n",
       "      <td>12</td>\n",
       "      <td>2004</td>\n",
       "      <td>Ships</td>\n",
       "      <td>54</td>\n",
       "      <td>S72_3212</td>\n",
       "      <td>Euro Shopping Channel</td>\n",
       "      <td>(91) 555 94 44</td>\n",
       "      <td>C/ Moralzarzal, 86</td>\n",
       "      <td>NaN</td>\n",
       "      <td>Madrid</td>\n",
       "      <td>NaN</td>\n",
       "      <td>28034</td>\n",
       "      <td>Spain</td>\n",
       "      <td>EMEA</td>\n",
       "      <td>Freyre</td>\n",
       "      <td>Diego</td>\n",
       "      <td>Small</td>\n",
       "    </tr>\n",
       "    <tr>\n",
       "      <th>2819</th>\n",
       "      <td>10373</td>\n",
       "      <td>29</td>\n",
       "      <td>100.00</td>\n",
       "      <td>1</td>\n",
       "      <td>3978.51</td>\n",
       "      <td>1/31/2005 0:00</td>\n",
       "      <td>Shipped</td>\n",
       "      <td>1</td>\n",
       "      <td>1</td>\n",
       "      <td>2005</td>\n",
       "      <td>Ships</td>\n",
       "      <td>54</td>\n",
       "      <td>S72_3212</td>\n",
       "      <td>Oulu Toy Supplies, Inc.</td>\n",
       "      <td>981-443655</td>\n",
       "      <td>Torikatu 38</td>\n",
       "      <td>NaN</td>\n",
       "      <td>Oulu</td>\n",
       "      <td>NaN</td>\n",
       "      <td>90110</td>\n",
       "      <td>Finland</td>\n",
       "      <td>EMEA</td>\n",
       "      <td>Koskitalo</td>\n",
       "      <td>Pirkko</td>\n",
       "      <td>Medium</td>\n",
       "    </tr>\n",
       "    <tr>\n",
       "      <th>2820</th>\n",
       "      <td>10386</td>\n",
       "      <td>43</td>\n",
       "      <td>100.00</td>\n",
       "      <td>4</td>\n",
       "      <td>5417.57</td>\n",
       "      <td>3/1/2005 0:00</td>\n",
       "      <td>Resolved</td>\n",
       "      <td>1</td>\n",
       "      <td>3</td>\n",
       "      <td>2005</td>\n",
       "      <td>Ships</td>\n",
       "      <td>54</td>\n",
       "      <td>S72_3212</td>\n",
       "      <td>Euro Shopping Channel</td>\n",
       "      <td>(91) 555 94 44</td>\n",
       "      <td>C/ Moralzarzal, 86</td>\n",
       "      <td>NaN</td>\n",
       "      <td>Madrid</td>\n",
       "      <td>NaN</td>\n",
       "      <td>28034</td>\n",
       "      <td>Spain</td>\n",
       "      <td>EMEA</td>\n",
       "      <td>Freyre</td>\n",
       "      <td>Diego</td>\n",
       "      <td>Medium</td>\n",
       "    </tr>\n",
       "    <tr>\n",
       "      <th>2821</th>\n",
       "      <td>10397</td>\n",
       "      <td>34</td>\n",
       "      <td>62.24</td>\n",
       "      <td>1</td>\n",
       "      <td>2116.16</td>\n",
       "      <td>3/28/2005 0:00</td>\n",
       "      <td>Shipped</td>\n",
       "      <td>1</td>\n",
       "      <td>3</td>\n",
       "      <td>2005</td>\n",
       "      <td>Ships</td>\n",
       "      <td>54</td>\n",
       "      <td>S72_3212</td>\n",
       "      <td>Alpha Cognac</td>\n",
       "      <td>61.77.6555</td>\n",
       "      <td>1 rue Alsace-Lorraine</td>\n",
       "      <td>NaN</td>\n",
       "      <td>Toulouse</td>\n",
       "      <td>NaN</td>\n",
       "      <td>31000</td>\n",
       "      <td>France</td>\n",
       "      <td>EMEA</td>\n",
       "      <td>Roulet</td>\n",
       "      <td>Annette</td>\n",
       "      <td>Small</td>\n",
       "    </tr>\n",
       "    <tr>\n",
       "      <th>2822</th>\n",
       "      <td>10414</td>\n",
       "      <td>47</td>\n",
       "      <td>65.52</td>\n",
       "      <td>9</td>\n",
       "      <td>3079.44</td>\n",
       "      <td>5/6/2005 0:00</td>\n",
       "      <td>On Hold</td>\n",
       "      <td>2</td>\n",
       "      <td>5</td>\n",
       "      <td>2005</td>\n",
       "      <td>Ships</td>\n",
       "      <td>54</td>\n",
       "      <td>S72_3212</td>\n",
       "      <td>Gifts4AllAges.com</td>\n",
       "      <td>6.18E+09</td>\n",
       "      <td>8616 Spinnaker Dr.</td>\n",
       "      <td>NaN</td>\n",
       "      <td>Boston</td>\n",
       "      <td>MA</td>\n",
       "      <td>51003</td>\n",
       "      <td>USA</td>\n",
       "      <td>NaN</td>\n",
       "      <td>Yoshido</td>\n",
       "      <td>Juri</td>\n",
       "      <td>Medium</td>\n",
       "    </tr>\n",
       "  </tbody>\n",
       "</table>\n",
       "</div>"
      ],
      "text/plain": [
       "      ORDERNUMBER  QUANTITYORDERED  PRICEEACH  ORDERLINENUMBER    SALES  \\\n",
       "2818        10350               20     100.00               15  2244.40   \n",
       "2819        10373               29     100.00                1  3978.51   \n",
       "2820        10386               43     100.00                4  5417.57   \n",
       "2821        10397               34      62.24                1  2116.16   \n",
       "2822        10414               47      65.52                9  3079.44   \n",
       "\n",
       "           ORDERDATE    STATUS  QTR_ID  MONTH_ID  YEAR_ID PRODUCTLINE  MSRP  \\\n",
       "2818  12/2/2004 0:00   Shipped       4        12     2004       Ships    54   \n",
       "2819  1/31/2005 0:00   Shipped       1         1     2005       Ships    54   \n",
       "2820   3/1/2005 0:00  Resolved       1         3     2005       Ships    54   \n",
       "2821  3/28/2005 0:00   Shipped       1         3     2005       Ships    54   \n",
       "2822   5/6/2005 0:00   On Hold       2         5     2005       Ships    54   \n",
       "\n",
       "     PRODUCTCODE             CUSTOMERNAME           PHONE  \\\n",
       "2818    S72_3212    Euro Shopping Channel  (91) 555 94 44   \n",
       "2819    S72_3212  Oulu Toy Supplies, Inc.      981-443655   \n",
       "2820    S72_3212    Euro Shopping Channel  (91) 555 94 44   \n",
       "2821    S72_3212             Alpha Cognac      61.77.6555   \n",
       "2822    S72_3212        Gifts4AllAges.com        6.18E+09   \n",
       "\n",
       "               ADDRESSLINE1 ADDRESSLINE2      CITY STATE POSTALCODE  COUNTRY  \\\n",
       "2818     C/ Moralzarzal, 86          NaN    Madrid   NaN      28034    Spain   \n",
       "2819            Torikatu 38          NaN      Oulu   NaN      90110  Finland   \n",
       "2820     C/ Moralzarzal, 86          NaN    Madrid   NaN      28034    Spain   \n",
       "2821  1 rue Alsace-Lorraine          NaN  Toulouse   NaN      31000   France   \n",
       "2822     8616 Spinnaker Dr.          NaN    Boston    MA      51003      USA   \n",
       "\n",
       "     TERRITORY CONTACTLASTNAME CONTACTFIRSTNAME DEALSIZE  \n",
       "2818      EMEA          Freyre            Diego    Small  \n",
       "2819      EMEA       Koskitalo           Pirkko   Medium  \n",
       "2820      EMEA          Freyre            Diego   Medium  \n",
       "2821      EMEA          Roulet          Annette    Small  \n",
       "2822       NaN         Yoshido             Juri   Medium  "
      ]
     },
     "execution_count": 161,
     "metadata": {},
     "output_type": "execute_result"
    }
   ],
   "source": [
    "df.tail()"
   ]
  },
  {
   "cell_type": "code",
   "execution_count": 162,
   "metadata": {
    "ExecuteTime": {
     "end_time": "2022-06-15T01:25:36.777912Z",
     "start_time": "2022-06-15T01:25:36.758304Z"
    },
    "scrolled": false
   },
   "outputs": [
    {
     "name": "stdout",
     "output_type": "stream",
     "text": [
      "<class 'pandas.core.frame.DataFrame'>\n",
      "RangeIndex: 2823 entries, 0 to 2822\n",
      "Data columns (total 25 columns):\n",
      "ORDERNUMBER         2823 non-null int64\n",
      "QUANTITYORDERED     2823 non-null int64\n",
      "PRICEEACH           2823 non-null float64\n",
      "ORDERLINENUMBER     2823 non-null int64\n",
      "SALES               2823 non-null float64\n",
      "ORDERDATE           2823 non-null object\n",
      "STATUS              2823 non-null object\n",
      "QTR_ID              2823 non-null int64\n",
      "MONTH_ID            2823 non-null int64\n",
      "YEAR_ID             2823 non-null int64\n",
      "PRODUCTLINE         2823 non-null object\n",
      "MSRP                2823 non-null int64\n",
      "PRODUCTCODE         2823 non-null object\n",
      "CUSTOMERNAME        2823 non-null object\n",
      "PHONE               2823 non-null object\n",
      "ADDRESSLINE1        2823 non-null object\n",
      "ADDRESSLINE2        302 non-null object\n",
      "CITY                2823 non-null object\n",
      "STATE               1337 non-null object\n",
      "POSTALCODE          2747 non-null object\n",
      "COUNTRY             2823 non-null object\n",
      "TERRITORY           1749 non-null object\n",
      "CONTACTLASTNAME     2823 non-null object\n",
      "CONTACTFIRSTNAME    2823 non-null object\n",
      "DEALSIZE            2823 non-null object\n",
      "dtypes: float64(2), int64(7), object(16)\n",
      "memory usage: 551.5+ KB\n"
     ]
    }
   ],
   "source": [
    "df.info()"
   ]
  },
  {
   "cell_type": "code",
   "execution_count": 163,
   "metadata": {
    "ExecuteTime": {
     "end_time": "2022-06-15T01:25:36.797186Z",
     "start_time": "2022-06-15T01:25:36.786126Z"
    }
   },
   "outputs": [
    {
     "data": {
      "text/plain": [
       "ORDERNUMBER            0\n",
       "QUANTITYORDERED        0\n",
       "PRICEEACH              0\n",
       "ORDERLINENUMBER        0\n",
       "SALES                  0\n",
       "ORDERDATE              0\n",
       "STATUS                 0\n",
       "QTR_ID                 0\n",
       "MONTH_ID               0\n",
       "YEAR_ID                0\n",
       "PRODUCTLINE            0\n",
       "MSRP                   0\n",
       "PRODUCTCODE            0\n",
       "CUSTOMERNAME           0\n",
       "PHONE                  0\n",
       "ADDRESSLINE1           0\n",
       "ADDRESSLINE2        2521\n",
       "CITY                   0\n",
       "STATE               1486\n",
       "POSTALCODE            76\n",
       "COUNTRY                0\n",
       "TERRITORY           1074\n",
       "CONTACTLASTNAME        0\n",
       "CONTACTFIRSTNAME       0\n",
       "DEALSIZE               0\n",
       "dtype: int64"
      ]
     },
     "execution_count": 163,
     "metadata": {},
     "output_type": "execute_result"
    }
   ],
   "source": [
    "df.isna().sum()"
   ]
  },
  {
   "cell_type": "code",
   "execution_count": 164,
   "metadata": {
    "ExecuteTime": {
     "end_time": "2022-06-15T01:25:36.864062Z",
     "start_time": "2022-06-15T01:25:36.809294Z"
    },
    "scrolled": true
   },
   "outputs": [
    {
     "data": {
      "text/html": [
       "<div>\n",
       "<style scoped>\n",
       "    .dataframe tbody tr th:only-of-type {\n",
       "        vertical-align: middle;\n",
       "    }\n",
       "\n",
       "    .dataframe tbody tr th {\n",
       "        vertical-align: top;\n",
       "    }\n",
       "\n",
       "    .dataframe thead th {\n",
       "        text-align: right;\n",
       "    }\n",
       "</style>\n",
       "<table border=\"1\" class=\"dataframe\">\n",
       "  <thead>\n",
       "    <tr style=\"text-align: right;\">\n",
       "      <th></th>\n",
       "      <th>ORDERNUMBER</th>\n",
       "      <th>QUANTITYORDERED</th>\n",
       "      <th>PRICEEACH</th>\n",
       "      <th>ORDERLINENUMBER</th>\n",
       "      <th>SALES</th>\n",
       "      <th>QTR_ID</th>\n",
       "      <th>MONTH_ID</th>\n",
       "      <th>YEAR_ID</th>\n",
       "      <th>MSRP</th>\n",
       "    </tr>\n",
       "  </thead>\n",
       "  <tbody>\n",
       "    <tr>\n",
       "      <th>count</th>\n",
       "      <td>2823.000000</td>\n",
       "      <td>2823.000000</td>\n",
       "      <td>2823.000000</td>\n",
       "      <td>2823.000000</td>\n",
       "      <td>2823.000000</td>\n",
       "      <td>2823.000000</td>\n",
       "      <td>2823.000000</td>\n",
       "      <td>2823.00000</td>\n",
       "      <td>2823.000000</td>\n",
       "    </tr>\n",
       "    <tr>\n",
       "      <th>mean</th>\n",
       "      <td>10258.725115</td>\n",
       "      <td>35.092809</td>\n",
       "      <td>83.658544</td>\n",
       "      <td>6.466171</td>\n",
       "      <td>3553.889072</td>\n",
       "      <td>2.717676</td>\n",
       "      <td>7.092455</td>\n",
       "      <td>2003.81509</td>\n",
       "      <td>100.715551</td>\n",
       "    </tr>\n",
       "    <tr>\n",
       "      <th>std</th>\n",
       "      <td>92.085478</td>\n",
       "      <td>9.741443</td>\n",
       "      <td>20.174277</td>\n",
       "      <td>4.225841</td>\n",
       "      <td>1841.865106</td>\n",
       "      <td>1.203878</td>\n",
       "      <td>3.656633</td>\n",
       "      <td>0.69967</td>\n",
       "      <td>40.187912</td>\n",
       "    </tr>\n",
       "    <tr>\n",
       "      <th>min</th>\n",
       "      <td>10100.000000</td>\n",
       "      <td>6.000000</td>\n",
       "      <td>26.880000</td>\n",
       "      <td>1.000000</td>\n",
       "      <td>482.130000</td>\n",
       "      <td>1.000000</td>\n",
       "      <td>1.000000</td>\n",
       "      <td>2003.00000</td>\n",
       "      <td>33.000000</td>\n",
       "    </tr>\n",
       "    <tr>\n",
       "      <th>25%</th>\n",
       "      <td>10180.000000</td>\n",
       "      <td>27.000000</td>\n",
       "      <td>68.860000</td>\n",
       "      <td>3.000000</td>\n",
       "      <td>2203.430000</td>\n",
       "      <td>2.000000</td>\n",
       "      <td>4.000000</td>\n",
       "      <td>2003.00000</td>\n",
       "      <td>68.000000</td>\n",
       "    </tr>\n",
       "    <tr>\n",
       "      <th>50%</th>\n",
       "      <td>10262.000000</td>\n",
       "      <td>35.000000</td>\n",
       "      <td>95.700000</td>\n",
       "      <td>6.000000</td>\n",
       "      <td>3184.800000</td>\n",
       "      <td>3.000000</td>\n",
       "      <td>8.000000</td>\n",
       "      <td>2004.00000</td>\n",
       "      <td>99.000000</td>\n",
       "    </tr>\n",
       "    <tr>\n",
       "      <th>75%</th>\n",
       "      <td>10333.500000</td>\n",
       "      <td>43.000000</td>\n",
       "      <td>100.000000</td>\n",
       "      <td>9.000000</td>\n",
       "      <td>4508.000000</td>\n",
       "      <td>4.000000</td>\n",
       "      <td>11.000000</td>\n",
       "      <td>2004.00000</td>\n",
       "      <td>124.000000</td>\n",
       "    </tr>\n",
       "    <tr>\n",
       "      <th>max</th>\n",
       "      <td>10425.000000</td>\n",
       "      <td>97.000000</td>\n",
       "      <td>100.000000</td>\n",
       "      <td>18.000000</td>\n",
       "      <td>14082.800000</td>\n",
       "      <td>4.000000</td>\n",
       "      <td>12.000000</td>\n",
       "      <td>2005.00000</td>\n",
       "      <td>214.000000</td>\n",
       "    </tr>\n",
       "  </tbody>\n",
       "</table>\n",
       "</div>"
      ],
      "text/plain": [
       "        ORDERNUMBER  QUANTITYORDERED    PRICEEACH  ORDERLINENUMBER  \\\n",
       "count   2823.000000      2823.000000  2823.000000      2823.000000   \n",
       "mean   10258.725115        35.092809    83.658544         6.466171   \n",
       "std       92.085478         9.741443    20.174277         4.225841   \n",
       "min    10100.000000         6.000000    26.880000         1.000000   \n",
       "25%    10180.000000        27.000000    68.860000         3.000000   \n",
       "50%    10262.000000        35.000000    95.700000         6.000000   \n",
       "75%    10333.500000        43.000000   100.000000         9.000000   \n",
       "max    10425.000000        97.000000   100.000000        18.000000   \n",
       "\n",
       "              SALES       QTR_ID     MONTH_ID     YEAR_ID         MSRP  \n",
       "count   2823.000000  2823.000000  2823.000000  2823.00000  2823.000000  \n",
       "mean    3553.889072     2.717676     7.092455  2003.81509   100.715551  \n",
       "std     1841.865106     1.203878     3.656633     0.69967    40.187912  \n",
       "min      482.130000     1.000000     1.000000  2003.00000    33.000000  \n",
       "25%     2203.430000     2.000000     4.000000  2003.00000    68.000000  \n",
       "50%     3184.800000     3.000000     8.000000  2004.00000    99.000000  \n",
       "75%     4508.000000     4.000000    11.000000  2004.00000   124.000000  \n",
       "max    14082.800000     4.000000    12.000000  2005.00000   214.000000  "
      ]
     },
     "execution_count": 164,
     "metadata": {},
     "output_type": "execute_result"
    }
   ],
   "source": [
    "df.describe()"
   ]
  },
  {
   "cell_type": "code",
   "execution_count": 165,
   "metadata": {
    "ExecuteTime": {
     "end_time": "2022-06-15T01:25:36.874834Z",
     "start_time": "2022-06-15T01:25:36.870059Z"
    }
   },
   "outputs": [],
   "source": [
    "# our two potential targets would be some aggregate of sales or quantity ordered"
   ]
  },
  {
   "cell_type": "code",
   "execution_count": 166,
   "metadata": {
    "ExecuteTime": {
     "end_time": "2022-06-15T01:25:36.918429Z",
     "start_time": "2022-06-15T01:25:36.905360Z"
    }
   },
   "outputs": [
    {
     "data": {
      "text/plain": [
       "2004    1345\n",
       "2003    1000\n",
       "2005     478\n",
       "Name: YEAR_ID, dtype: int64"
      ]
     },
     "execution_count": 166,
     "metadata": {},
     "output_type": "execute_result"
    }
   ],
   "source": [
    "df.YEAR_ID.value_counts()"
   ]
  },
  {
   "cell_type": "code",
   "execution_count": 167,
   "metadata": {
    "ExecuteTime": {
     "end_time": "2022-06-15T01:25:36.933109Z",
     "start_time": "2022-06-15T01:25:36.922369Z"
    }
   },
   "outputs": [
    {
     "data": {
      "text/plain": [
       "Shipped       2617\n",
       "Cancelled       60\n",
       "Resolved        47\n",
       "On Hold         44\n",
       "In Process      41\n",
       "Disputed        14\n",
       "Name: STATUS, dtype: int64"
      ]
     },
     "execution_count": 167,
     "metadata": {},
     "output_type": "execute_result"
    }
   ],
   "source": [
    "df.STATUS.value_counts()"
   ]
  },
  {
   "cell_type": "code",
   "execution_count": 168,
   "metadata": {
    "ExecuteTime": {
     "end_time": "2022-06-15T01:25:36.950695Z",
     "start_time": "2022-06-15T01:25:36.937965Z"
    }
   },
   "outputs": [
    {
     "data": {
      "text/plain": [
       "USA            1004\n",
       "Spain           342\n",
       "France          314\n",
       "Australia       185\n",
       "UK              144\n",
       "Italy           113\n",
       "Finland          92\n",
       "Norway           85\n",
       "Singapore        79\n",
       "Canada           70\n",
       "Denmark          63\n",
       "Germany          62\n",
       "Sweden           57\n",
       "Austria          55\n",
       "Japan            52\n",
       "Belgium          33\n",
       "Switzerland      31\n",
       "Philippines      26\n",
       "Ireland          16\n",
       "Name: COUNTRY, dtype: int64"
      ]
     },
     "execution_count": 168,
     "metadata": {},
     "output_type": "execute_result"
    }
   ],
   "source": [
    "df.COUNTRY.value_counts()"
   ]
  },
  {
   "cell_type": "code",
   "execution_count": 169,
   "metadata": {
    "ExecuteTime": {
     "end_time": "2022-06-15T01:25:36.970717Z",
     "start_time": "2022-06-15T01:25:36.960228Z"
    }
   },
   "outputs": [
    {
     "data": {
      "text/plain": [
       "Classic Cars        967\n",
       "Vintage Cars        607\n",
       "Motorcycles         331\n",
       "Planes              306\n",
       "Trucks and Buses    301\n",
       "Ships               234\n",
       "Trains               77\n",
       "Name: PRODUCTLINE, dtype: int64"
      ]
     },
     "execution_count": 169,
     "metadata": {},
     "output_type": "execute_result"
    }
   ],
   "source": [
    "df.PRODUCTLINE.value_counts()"
   ]
  },
  {
   "cell_type": "markdown",
   "metadata": {},
   "source": [
    "## Data Cleaning"
   ]
  },
  {
   "cell_type": "markdown",
   "metadata": {},
   "source": [
    "### only include completed sales"
   ]
  },
  {
   "cell_type": "code",
   "execution_count": 171,
   "metadata": {
    "ExecuteTime": {
     "end_time": "2022-06-15T01:25:44.872883Z",
     "start_time": "2022-06-15T01:25:44.863880Z"
    }
   },
   "outputs": [],
   "source": [
    "df = df.loc[(df['STATUS']=='Shipped') | (df['STATUS']=='Resolved')]"
   ]
  },
  {
   "cell_type": "code",
   "execution_count": 172,
   "metadata": {
    "ExecuteTime": {
     "end_time": "2022-06-15T01:25:46.145306Z",
     "start_time": "2022-06-15T01:25:46.110665Z"
    },
    "scrolled": true
   },
   "outputs": [
    {
     "data": {
      "text/html": [
       "<div>\n",
       "<style scoped>\n",
       "    .dataframe tbody tr th:only-of-type {\n",
       "        vertical-align: middle;\n",
       "    }\n",
       "\n",
       "    .dataframe tbody tr th {\n",
       "        vertical-align: top;\n",
       "    }\n",
       "\n",
       "    .dataframe thead th {\n",
       "        text-align: right;\n",
       "    }\n",
       "</style>\n",
       "<table border=\"1\" class=\"dataframe\">\n",
       "  <thead>\n",
       "    <tr style=\"text-align: right;\">\n",
       "      <th></th>\n",
       "      <th>ORDERNUMBER</th>\n",
       "      <th>QUANTITYORDERED</th>\n",
       "      <th>PRICEEACH</th>\n",
       "      <th>ORDERLINENUMBER</th>\n",
       "      <th>SALES</th>\n",
       "      <th>ORDERDATE</th>\n",
       "      <th>STATUS</th>\n",
       "      <th>QTR_ID</th>\n",
       "      <th>MONTH_ID</th>\n",
       "      <th>YEAR_ID</th>\n",
       "      <th>PRODUCTLINE</th>\n",
       "      <th>MSRP</th>\n",
       "      <th>PRODUCTCODE</th>\n",
       "      <th>CUSTOMERNAME</th>\n",
       "      <th>PHONE</th>\n",
       "      <th>ADDRESSLINE1</th>\n",
       "      <th>ADDRESSLINE2</th>\n",
       "      <th>CITY</th>\n",
       "      <th>STATE</th>\n",
       "      <th>POSTALCODE</th>\n",
       "      <th>COUNTRY</th>\n",
       "      <th>TERRITORY</th>\n",
       "      <th>CONTACTLASTNAME</th>\n",
       "      <th>CONTACTFIRSTNAME</th>\n",
       "      <th>DEALSIZE</th>\n",
       "    </tr>\n",
       "  </thead>\n",
       "  <tbody>\n",
       "    <tr>\n",
       "      <th>0</th>\n",
       "      <td>10107</td>\n",
       "      <td>30</td>\n",
       "      <td>95.70</td>\n",
       "      <td>2</td>\n",
       "      <td>2871.00</td>\n",
       "      <td>2/24/2003 0:00</td>\n",
       "      <td>Shipped</td>\n",
       "      <td>1</td>\n",
       "      <td>2</td>\n",
       "      <td>2003</td>\n",
       "      <td>Motorcycles</td>\n",
       "      <td>95</td>\n",
       "      <td>S10_1678</td>\n",
       "      <td>Land of Toys Inc.</td>\n",
       "      <td>2.13E+09</td>\n",
       "      <td>897 Long Airport Avenue</td>\n",
       "      <td>NaN</td>\n",
       "      <td>NYC</td>\n",
       "      <td>NY</td>\n",
       "      <td>10022</td>\n",
       "      <td>USA</td>\n",
       "      <td>NaN</td>\n",
       "      <td>Yu</td>\n",
       "      <td>Kwai</td>\n",
       "      <td>Small</td>\n",
       "    </tr>\n",
       "    <tr>\n",
       "      <th>1</th>\n",
       "      <td>10121</td>\n",
       "      <td>34</td>\n",
       "      <td>81.35</td>\n",
       "      <td>5</td>\n",
       "      <td>2765.90</td>\n",
       "      <td>5/7/2003 0:00</td>\n",
       "      <td>Shipped</td>\n",
       "      <td>2</td>\n",
       "      <td>5</td>\n",
       "      <td>2003</td>\n",
       "      <td>Motorcycles</td>\n",
       "      <td>95</td>\n",
       "      <td>S10_1678</td>\n",
       "      <td>Reims Collectables</td>\n",
       "      <td>26.47.1555</td>\n",
       "      <td>59 rue de l'Abbaye</td>\n",
       "      <td>NaN</td>\n",
       "      <td>Reims</td>\n",
       "      <td>NaN</td>\n",
       "      <td>51100</td>\n",
       "      <td>France</td>\n",
       "      <td>EMEA</td>\n",
       "      <td>Henriot</td>\n",
       "      <td>Paul</td>\n",
       "      <td>Small</td>\n",
       "    </tr>\n",
       "    <tr>\n",
       "      <th>2</th>\n",
       "      <td>10134</td>\n",
       "      <td>41</td>\n",
       "      <td>94.74</td>\n",
       "      <td>2</td>\n",
       "      <td>3884.34</td>\n",
       "      <td>7/1/2003 0:00</td>\n",
       "      <td>Shipped</td>\n",
       "      <td>3</td>\n",
       "      <td>7</td>\n",
       "      <td>2003</td>\n",
       "      <td>Motorcycles</td>\n",
       "      <td>95</td>\n",
       "      <td>S10_1678</td>\n",
       "      <td>Lyon Souveniers</td>\n",
       "      <td>#ERROR!</td>\n",
       "      <td>27 rue du Colonel Pierre Avia</td>\n",
       "      <td>NaN</td>\n",
       "      <td>Paris</td>\n",
       "      <td>NaN</td>\n",
       "      <td>75508</td>\n",
       "      <td>France</td>\n",
       "      <td>EMEA</td>\n",
       "      <td>Da Cunha</td>\n",
       "      <td>Daniel</td>\n",
       "      <td>Medium</td>\n",
       "    </tr>\n",
       "    <tr>\n",
       "      <th>3</th>\n",
       "      <td>10145</td>\n",
       "      <td>45</td>\n",
       "      <td>83.26</td>\n",
       "      <td>6</td>\n",
       "      <td>3746.70</td>\n",
       "      <td>8/25/2003 0:00</td>\n",
       "      <td>Shipped</td>\n",
       "      <td>3</td>\n",
       "      <td>8</td>\n",
       "      <td>2003</td>\n",
       "      <td>Motorcycles</td>\n",
       "      <td>95</td>\n",
       "      <td>S10_1678</td>\n",
       "      <td>Toys4GrownUps.com</td>\n",
       "      <td>6.27E+09</td>\n",
       "      <td>78934 Hillside Dr.</td>\n",
       "      <td>NaN</td>\n",
       "      <td>Pasadena</td>\n",
       "      <td>CA</td>\n",
       "      <td>90003</td>\n",
       "      <td>USA</td>\n",
       "      <td>NaN</td>\n",
       "      <td>Young</td>\n",
       "      <td>Julie</td>\n",
       "      <td>Medium</td>\n",
       "    </tr>\n",
       "    <tr>\n",
       "      <th>4</th>\n",
       "      <td>10159</td>\n",
       "      <td>49</td>\n",
       "      <td>100.00</td>\n",
       "      <td>14</td>\n",
       "      <td>5205.27</td>\n",
       "      <td>10/10/2003 0:00</td>\n",
       "      <td>Shipped</td>\n",
       "      <td>4</td>\n",
       "      <td>10</td>\n",
       "      <td>2003</td>\n",
       "      <td>Motorcycles</td>\n",
       "      <td>95</td>\n",
       "      <td>S10_1678</td>\n",
       "      <td>Corporate Gift Ideas Co.</td>\n",
       "      <td>6.51E+09</td>\n",
       "      <td>7734 Strong St.</td>\n",
       "      <td>NaN</td>\n",
       "      <td>San Francisco</td>\n",
       "      <td>CA</td>\n",
       "      <td>NaN</td>\n",
       "      <td>USA</td>\n",
       "      <td>NaN</td>\n",
       "      <td>Brown</td>\n",
       "      <td>Julie</td>\n",
       "      <td>Medium</td>\n",
       "    </tr>\n",
       "  </tbody>\n",
       "</table>\n",
       "</div>"
      ],
      "text/plain": [
       "   ORDERNUMBER  QUANTITYORDERED  PRICEEACH  ORDERLINENUMBER    SALES  \\\n",
       "0        10107               30      95.70                2  2871.00   \n",
       "1        10121               34      81.35                5  2765.90   \n",
       "2        10134               41      94.74                2  3884.34   \n",
       "3        10145               45      83.26                6  3746.70   \n",
       "4        10159               49     100.00               14  5205.27   \n",
       "\n",
       "         ORDERDATE   STATUS  QTR_ID  MONTH_ID  YEAR_ID  PRODUCTLINE  MSRP  \\\n",
       "0   2/24/2003 0:00  Shipped       1         2     2003  Motorcycles    95   \n",
       "1    5/7/2003 0:00  Shipped       2         5     2003  Motorcycles    95   \n",
       "2    7/1/2003 0:00  Shipped       3         7     2003  Motorcycles    95   \n",
       "3   8/25/2003 0:00  Shipped       3         8     2003  Motorcycles    95   \n",
       "4  10/10/2003 0:00  Shipped       4        10     2003  Motorcycles    95   \n",
       "\n",
       "  PRODUCTCODE              CUSTOMERNAME       PHONE  \\\n",
       "0    S10_1678         Land of Toys Inc.    2.13E+09   \n",
       "1    S10_1678        Reims Collectables  26.47.1555   \n",
       "2    S10_1678           Lyon Souveniers     #ERROR!   \n",
       "3    S10_1678         Toys4GrownUps.com    6.27E+09   \n",
       "4    S10_1678  Corporate Gift Ideas Co.    6.51E+09   \n",
       "\n",
       "                    ADDRESSLINE1 ADDRESSLINE2           CITY STATE POSTALCODE  \\\n",
       "0        897 Long Airport Avenue          NaN            NYC    NY      10022   \n",
       "1             59 rue de l'Abbaye          NaN          Reims   NaN      51100   \n",
       "2  27 rue du Colonel Pierre Avia          NaN          Paris   NaN      75508   \n",
       "3             78934 Hillside Dr.          NaN       Pasadena    CA      90003   \n",
       "4                7734 Strong St.          NaN  San Francisco    CA        NaN   \n",
       "\n",
       "  COUNTRY TERRITORY CONTACTLASTNAME CONTACTFIRSTNAME DEALSIZE  \n",
       "0     USA       NaN              Yu             Kwai    Small  \n",
       "1  France      EMEA         Henriot             Paul    Small  \n",
       "2  France      EMEA        Da Cunha           Daniel   Medium  \n",
       "3     USA       NaN           Young            Julie   Medium  \n",
       "4     USA       NaN           Brown            Julie   Medium  "
      ]
     },
     "execution_count": 172,
     "metadata": {},
     "output_type": "execute_result"
    }
   ],
   "source": [
    "df.head()"
   ]
  },
  {
   "cell_type": "markdown",
   "metadata": {},
   "source": [
    "### convert date column to date time"
   ]
  },
  {
   "cell_type": "code",
   "execution_count": 173,
   "metadata": {
    "ExecuteTime": {
     "end_time": "2022-06-15T01:26:04.246728Z",
     "start_time": "2022-06-15T01:26:04.211852Z"
    }
   },
   "outputs": [],
   "source": [
    "df[\"ORDERDATE\"] = pd.to_datetime(df[\"ORDERDATE\"])"
   ]
  },
  {
   "cell_type": "code",
   "execution_count": 174,
   "metadata": {
    "ExecuteTime": {
     "end_time": "2022-06-15T01:26:08.399496Z",
     "start_time": "2022-06-15T01:26:08.387420Z"
    }
   },
   "outputs": [],
   "source": [
    "df = df.sort_values(by=\"ORDERDATE\").reset_index()"
   ]
  },
  {
   "cell_type": "code",
   "execution_count": 175,
   "metadata": {
    "ExecuteTime": {
     "end_time": "2022-06-15T01:26:15.570116Z",
     "start_time": "2022-06-15T01:26:15.529130Z"
    }
   },
   "outputs": [
    {
     "data": {
      "text/html": [
       "<div>\n",
       "<style scoped>\n",
       "    .dataframe tbody tr th:only-of-type {\n",
       "        vertical-align: middle;\n",
       "    }\n",
       "\n",
       "    .dataframe tbody tr th {\n",
       "        vertical-align: top;\n",
       "    }\n",
       "\n",
       "    .dataframe thead th {\n",
       "        text-align: right;\n",
       "    }\n",
       "</style>\n",
       "<table border=\"1\" class=\"dataframe\">\n",
       "  <thead>\n",
       "    <tr style=\"text-align: right;\">\n",
       "      <th></th>\n",
       "      <th>index</th>\n",
       "      <th>ORDERNUMBER</th>\n",
       "      <th>QUANTITYORDERED</th>\n",
       "      <th>PRICEEACH</th>\n",
       "      <th>ORDERLINENUMBER</th>\n",
       "      <th>SALES</th>\n",
       "      <th>ORDERDATE</th>\n",
       "      <th>STATUS</th>\n",
       "      <th>QTR_ID</th>\n",
       "      <th>MONTH_ID</th>\n",
       "      <th>YEAR_ID</th>\n",
       "      <th>PRODUCTLINE</th>\n",
       "      <th>MSRP</th>\n",
       "      <th>PRODUCTCODE</th>\n",
       "      <th>CUSTOMERNAME</th>\n",
       "      <th>PHONE</th>\n",
       "      <th>ADDRESSLINE1</th>\n",
       "      <th>ADDRESSLINE2</th>\n",
       "      <th>CITY</th>\n",
       "      <th>STATE</th>\n",
       "      <th>POSTALCODE</th>\n",
       "      <th>COUNTRY</th>\n",
       "      <th>TERRITORY</th>\n",
       "      <th>CONTACTLASTNAME</th>\n",
       "      <th>CONTACTFIRSTNAME</th>\n",
       "      <th>DEALSIZE</th>\n",
       "    </tr>\n",
       "  </thead>\n",
       "  <tbody>\n",
       "    <tr>\n",
       "      <th>0</th>\n",
       "      <td>680</td>\n",
       "      <td>10100</td>\n",
       "      <td>50</td>\n",
       "      <td>67.80</td>\n",
       "      <td>2</td>\n",
       "      <td>3390.00</td>\n",
       "      <td>2003-01-06</td>\n",
       "      <td>Shipped</td>\n",
       "      <td>1</td>\n",
       "      <td>1</td>\n",
       "      <td>2003</td>\n",
       "      <td>Vintage Cars</td>\n",
       "      <td>60</td>\n",
       "      <td>S18_2248</td>\n",
       "      <td>Online Diecast Creations Co.</td>\n",
       "      <td>6.04E+09</td>\n",
       "      <td>2304 Long Airport Avenue</td>\n",
       "      <td>NaN</td>\n",
       "      <td>Nashua</td>\n",
       "      <td>NH</td>\n",
       "      <td>62005</td>\n",
       "      <td>USA</td>\n",
       "      <td>NaN</td>\n",
       "      <td>Young</td>\n",
       "      <td>Valarie</td>\n",
       "      <td>Medium</td>\n",
       "    </tr>\n",
       "    <tr>\n",
       "      <th>1</th>\n",
       "      <td>578</td>\n",
       "      <td>10100</td>\n",
       "      <td>30</td>\n",
       "      <td>100.00</td>\n",
       "      <td>3</td>\n",
       "      <td>5151.00</td>\n",
       "      <td>2003-01-06</td>\n",
       "      <td>Shipped</td>\n",
       "      <td>1</td>\n",
       "      <td>1</td>\n",
       "      <td>2003</td>\n",
       "      <td>Vintage Cars</td>\n",
       "      <td>170</td>\n",
       "      <td>S18_1749</td>\n",
       "      <td>Online Diecast Creations Co.</td>\n",
       "      <td>6.04E+09</td>\n",
       "      <td>2304 Long Airport Avenue</td>\n",
       "      <td>NaN</td>\n",
       "      <td>Nashua</td>\n",
       "      <td>NH</td>\n",
       "      <td>62005</td>\n",
       "      <td>USA</td>\n",
       "      <td>NaN</td>\n",
       "      <td>Young</td>\n",
       "      <td>Valarie</td>\n",
       "      <td>Medium</td>\n",
       "    </tr>\n",
       "    <tr>\n",
       "      <th>2</th>\n",
       "      <td>1267</td>\n",
       "      <td>10100</td>\n",
       "      <td>22</td>\n",
       "      <td>86.51</td>\n",
       "      <td>4</td>\n",
       "      <td>1903.22</td>\n",
       "      <td>2003-01-06</td>\n",
       "      <td>Shipped</td>\n",
       "      <td>1</td>\n",
       "      <td>1</td>\n",
       "      <td>2003</td>\n",
       "      <td>Vintage Cars</td>\n",
       "      <td>92</td>\n",
       "      <td>S18_4409</td>\n",
       "      <td>Online Diecast Creations Co.</td>\n",
       "      <td>6.04E+09</td>\n",
       "      <td>2304 Long Airport Avenue</td>\n",
       "      <td>NaN</td>\n",
       "      <td>Nashua</td>\n",
       "      <td>NH</td>\n",
       "      <td>62005</td>\n",
       "      <td>USA</td>\n",
       "      <td>NaN</td>\n",
       "      <td>Young</td>\n",
       "      <td>Valarie</td>\n",
       "      <td>Small</td>\n",
       "    </tr>\n",
       "    <tr>\n",
       "      <th>3</th>\n",
       "      <td>2024</td>\n",
       "      <td>10100</td>\n",
       "      <td>49</td>\n",
       "      <td>34.47</td>\n",
       "      <td>1</td>\n",
       "      <td>1689.03</td>\n",
       "      <td>2003-01-06</td>\n",
       "      <td>Shipped</td>\n",
       "      <td>1</td>\n",
       "      <td>1</td>\n",
       "      <td>2003</td>\n",
       "      <td>Vintage Cars</td>\n",
       "      <td>41</td>\n",
       "      <td>S24_3969</td>\n",
       "      <td>Online Diecast Creations Co.</td>\n",
       "      <td>6.04E+09</td>\n",
       "      <td>2304 Long Airport Avenue</td>\n",
       "      <td>NaN</td>\n",
       "      <td>Nashua</td>\n",
       "      <td>NH</td>\n",
       "      <td>62005</td>\n",
       "      <td>USA</td>\n",
       "      <td>NaN</td>\n",
       "      <td>Young</td>\n",
       "      <td>Valarie</td>\n",
       "      <td>Small</td>\n",
       "    </tr>\n",
       "    <tr>\n",
       "      <th>4</th>\n",
       "      <td>728</td>\n",
       "      <td>10101</td>\n",
       "      <td>25</td>\n",
       "      <td>100.00</td>\n",
       "      <td>4</td>\n",
       "      <td>3782.00</td>\n",
       "      <td>2003-01-09</td>\n",
       "      <td>Shipped</td>\n",
       "      <td>1</td>\n",
       "      <td>1</td>\n",
       "      <td>2003</td>\n",
       "      <td>Vintage Cars</td>\n",
       "      <td>127</td>\n",
       "      <td>S18_2325</td>\n",
       "      <td>Blauer See Auto, Co.</td>\n",
       "      <td>#ERROR!</td>\n",
       "      <td>Lyonerstr. 34</td>\n",
       "      <td>NaN</td>\n",
       "      <td>Frankfurt</td>\n",
       "      <td>NaN</td>\n",
       "      <td>60528</td>\n",
       "      <td>Germany</td>\n",
       "      <td>EMEA</td>\n",
       "      <td>Keitel</td>\n",
       "      <td>Roland</td>\n",
       "      <td>Medium</td>\n",
       "    </tr>\n",
       "  </tbody>\n",
       "</table>\n",
       "</div>"
      ],
      "text/plain": [
       "   index  ORDERNUMBER  QUANTITYORDERED  PRICEEACH  ORDERLINENUMBER    SALES  \\\n",
       "0    680        10100               50      67.80                2  3390.00   \n",
       "1    578        10100               30     100.00                3  5151.00   \n",
       "2   1267        10100               22      86.51                4  1903.22   \n",
       "3   2024        10100               49      34.47                1  1689.03   \n",
       "4    728        10101               25     100.00                4  3782.00   \n",
       "\n",
       "   ORDERDATE   STATUS  QTR_ID  MONTH_ID  YEAR_ID   PRODUCTLINE  MSRP  \\\n",
       "0 2003-01-06  Shipped       1         1     2003  Vintage Cars    60   \n",
       "1 2003-01-06  Shipped       1         1     2003  Vintage Cars   170   \n",
       "2 2003-01-06  Shipped       1         1     2003  Vintage Cars    92   \n",
       "3 2003-01-06  Shipped       1         1     2003  Vintage Cars    41   \n",
       "4 2003-01-09  Shipped       1         1     2003  Vintage Cars   127   \n",
       "\n",
       "  PRODUCTCODE                  CUSTOMERNAME     PHONE  \\\n",
       "0    S18_2248  Online Diecast Creations Co.  6.04E+09   \n",
       "1    S18_1749  Online Diecast Creations Co.  6.04E+09   \n",
       "2    S18_4409  Online Diecast Creations Co.  6.04E+09   \n",
       "3    S24_3969  Online Diecast Creations Co.  6.04E+09   \n",
       "4    S18_2325          Blauer See Auto, Co.   #ERROR!   \n",
       "\n",
       "               ADDRESSLINE1 ADDRESSLINE2       CITY STATE POSTALCODE  COUNTRY  \\\n",
       "0  2304 Long Airport Avenue          NaN     Nashua    NH      62005      USA   \n",
       "1  2304 Long Airport Avenue          NaN     Nashua    NH      62005      USA   \n",
       "2  2304 Long Airport Avenue          NaN     Nashua    NH      62005      USA   \n",
       "3  2304 Long Airport Avenue          NaN     Nashua    NH      62005      USA   \n",
       "4             Lyonerstr. 34          NaN  Frankfurt   NaN      60528  Germany   \n",
       "\n",
       "  TERRITORY CONTACTLASTNAME CONTACTFIRSTNAME DEALSIZE  \n",
       "0       NaN           Young          Valarie   Medium  \n",
       "1       NaN           Young          Valarie   Medium  \n",
       "2       NaN           Young          Valarie    Small  \n",
       "3       NaN           Young          Valarie    Small  \n",
       "4      EMEA          Keitel           Roland   Medium  "
      ]
     },
     "execution_count": 175,
     "metadata": {},
     "output_type": "execute_result"
    }
   ],
   "source": [
    "df.head()"
   ]
  },
  {
   "cell_type": "markdown",
   "metadata": {},
   "source": [
    "### select desired columns"
   ]
  },
  {
   "cell_type": "code",
   "execution_count": 176,
   "metadata": {
    "ExecuteTime": {
     "end_time": "2022-06-15T01:26:27.026292Z",
     "start_time": "2022-06-15T01:26:27.014340Z"
    }
   },
   "outputs": [
    {
     "data": {
      "text/plain": [
       "Index(['index', 'ORDERNUMBER', 'QUANTITYORDERED', 'PRICEEACH',\n",
       "       'ORDERLINENUMBER', 'SALES', 'ORDERDATE', 'STATUS', 'QTR_ID', 'MONTH_ID',\n",
       "       'YEAR_ID', 'PRODUCTLINE', 'MSRP', 'PRODUCTCODE', 'CUSTOMERNAME',\n",
       "       'PHONE', 'ADDRESSLINE1', 'ADDRESSLINE2', 'CITY', 'STATE', 'POSTALCODE',\n",
       "       'COUNTRY', 'TERRITORY', 'CONTACTLASTNAME', 'CONTACTFIRSTNAME',\n",
       "       'DEALSIZE'],\n",
       "      dtype='object')"
      ]
     },
     "execution_count": 176,
     "metadata": {},
     "output_type": "execute_result"
    }
   ],
   "source": [
    "df.columns"
   ]
  },
  {
   "cell_type": "code",
   "execution_count": 177,
   "metadata": {
    "ExecuteTime": {
     "end_time": "2022-06-15T01:26:29.153173Z",
     "start_time": "2022-06-15T01:26:29.144389Z"
    }
   },
   "outputs": [],
   "source": [
    "columns = ['ORDERDATE',\n",
    "           'PRODUCTLINE',\n",
    "           'QUANTITYORDERED',\n",
    "           'PRICEEACH',\n",
    "           'SALES','DEALSIZE',\n",
    "           'CUSTOMERNAME','CITY','COUNTRY',\n",
    "           'YEAR_ID', 'QTR_ID', 'MONTH_ID',\n",
    "           'STATUS'\n",
    "           ]"
   ]
  },
  {
   "cell_type": "code",
   "execution_count": 178,
   "metadata": {
    "ExecuteTime": {
     "end_time": "2022-06-15T01:26:29.802714Z",
     "start_time": "2022-06-15T01:26:29.790868Z"
    },
    "scrolled": false
   },
   "outputs": [],
   "source": [
    "df = df[columns]"
   ]
  },
  {
   "cell_type": "code",
   "execution_count": 179,
   "metadata": {
    "ExecuteTime": {
     "end_time": "2022-06-15T01:26:36.770172Z",
     "start_time": "2022-06-15T01:26:36.710159Z"
    }
   },
   "outputs": [
    {
     "data": {
      "text/html": [
       "<div>\n",
       "<style scoped>\n",
       "    .dataframe tbody tr th:only-of-type {\n",
       "        vertical-align: middle;\n",
       "    }\n",
       "\n",
       "    .dataframe tbody tr th {\n",
       "        vertical-align: top;\n",
       "    }\n",
       "\n",
       "    .dataframe thead th {\n",
       "        text-align: right;\n",
       "    }\n",
       "</style>\n",
       "<table border=\"1\" class=\"dataframe\">\n",
       "  <thead>\n",
       "    <tr style=\"text-align: right;\">\n",
       "      <th></th>\n",
       "      <th>ORDERDATE</th>\n",
       "      <th>PRODUCTLINE</th>\n",
       "      <th>QUANTITYORDERED</th>\n",
       "      <th>PRICEEACH</th>\n",
       "      <th>SALES</th>\n",
       "      <th>DEALSIZE</th>\n",
       "      <th>CUSTOMERNAME</th>\n",
       "      <th>CITY</th>\n",
       "      <th>COUNTRY</th>\n",
       "      <th>YEAR_ID</th>\n",
       "      <th>QTR_ID</th>\n",
       "      <th>MONTH_ID</th>\n",
       "      <th>STATUS</th>\n",
       "    </tr>\n",
       "  </thead>\n",
       "  <tbody>\n",
       "    <tr>\n",
       "      <th>0</th>\n",
       "      <td>2003-01-06</td>\n",
       "      <td>Vintage Cars</td>\n",
       "      <td>50</td>\n",
       "      <td>67.80</td>\n",
       "      <td>3390.00</td>\n",
       "      <td>Medium</td>\n",
       "      <td>Online Diecast Creations Co.</td>\n",
       "      <td>Nashua</td>\n",
       "      <td>USA</td>\n",
       "      <td>2003</td>\n",
       "      <td>1</td>\n",
       "      <td>1</td>\n",
       "      <td>Shipped</td>\n",
       "    </tr>\n",
       "    <tr>\n",
       "      <th>1</th>\n",
       "      <td>2003-01-06</td>\n",
       "      <td>Vintage Cars</td>\n",
       "      <td>30</td>\n",
       "      <td>100.00</td>\n",
       "      <td>5151.00</td>\n",
       "      <td>Medium</td>\n",
       "      <td>Online Diecast Creations Co.</td>\n",
       "      <td>Nashua</td>\n",
       "      <td>USA</td>\n",
       "      <td>2003</td>\n",
       "      <td>1</td>\n",
       "      <td>1</td>\n",
       "      <td>Shipped</td>\n",
       "    </tr>\n",
       "    <tr>\n",
       "      <th>2</th>\n",
       "      <td>2003-01-06</td>\n",
       "      <td>Vintage Cars</td>\n",
       "      <td>22</td>\n",
       "      <td>86.51</td>\n",
       "      <td>1903.22</td>\n",
       "      <td>Small</td>\n",
       "      <td>Online Diecast Creations Co.</td>\n",
       "      <td>Nashua</td>\n",
       "      <td>USA</td>\n",
       "      <td>2003</td>\n",
       "      <td>1</td>\n",
       "      <td>1</td>\n",
       "      <td>Shipped</td>\n",
       "    </tr>\n",
       "    <tr>\n",
       "      <th>3</th>\n",
       "      <td>2003-01-06</td>\n",
       "      <td>Vintage Cars</td>\n",
       "      <td>49</td>\n",
       "      <td>34.47</td>\n",
       "      <td>1689.03</td>\n",
       "      <td>Small</td>\n",
       "      <td>Online Diecast Creations Co.</td>\n",
       "      <td>Nashua</td>\n",
       "      <td>USA</td>\n",
       "      <td>2003</td>\n",
       "      <td>1</td>\n",
       "      <td>1</td>\n",
       "      <td>Shipped</td>\n",
       "    </tr>\n",
       "    <tr>\n",
       "      <th>4</th>\n",
       "      <td>2003-01-09</td>\n",
       "      <td>Vintage Cars</td>\n",
       "      <td>25</td>\n",
       "      <td>100.00</td>\n",
       "      <td>3782.00</td>\n",
       "      <td>Medium</td>\n",
       "      <td>Blauer See Auto, Co.</td>\n",
       "      <td>Frankfurt</td>\n",
       "      <td>Germany</td>\n",
       "      <td>2003</td>\n",
       "      <td>1</td>\n",
       "      <td>1</td>\n",
       "      <td>Shipped</td>\n",
       "    </tr>\n",
       "  </tbody>\n",
       "</table>\n",
       "</div>"
      ],
      "text/plain": [
       "   ORDERDATE   PRODUCTLINE  QUANTITYORDERED  PRICEEACH    SALES DEALSIZE  \\\n",
       "0 2003-01-06  Vintage Cars               50      67.80  3390.00   Medium   \n",
       "1 2003-01-06  Vintage Cars               30     100.00  5151.00   Medium   \n",
       "2 2003-01-06  Vintage Cars               22      86.51  1903.22    Small   \n",
       "3 2003-01-06  Vintage Cars               49      34.47  1689.03    Small   \n",
       "4 2003-01-09  Vintage Cars               25     100.00  3782.00   Medium   \n",
       "\n",
       "                   CUSTOMERNAME       CITY  COUNTRY  YEAR_ID  QTR_ID  \\\n",
       "0  Online Diecast Creations Co.     Nashua      USA     2003       1   \n",
       "1  Online Diecast Creations Co.     Nashua      USA     2003       1   \n",
       "2  Online Diecast Creations Co.     Nashua      USA     2003       1   \n",
       "3  Online Diecast Creations Co.     Nashua      USA     2003       1   \n",
       "4          Blauer See Auto, Co.  Frankfurt  Germany     2003       1   \n",
       "\n",
       "   MONTH_ID   STATUS  \n",
       "0         1  Shipped  \n",
       "1         1  Shipped  \n",
       "2         1  Shipped  \n",
       "3         1  Shipped  \n",
       "4         1  Shipped  "
      ]
     },
     "execution_count": 179,
     "metadata": {},
     "output_type": "execute_result"
    }
   ],
   "source": [
    "df.head()"
   ]
  },
  {
   "cell_type": "markdown",
   "metadata": {},
   "source": [
    "## Data Exploration"
   ]
  },
  {
   "cell_type": "markdown",
   "metadata": {},
   "source": [
    "### WHO: which customer is bringing in highest value?"
   ]
  },
  {
   "cell_type": "code",
   "execution_count": 180,
   "metadata": {
    "ExecuteTime": {
     "end_time": "2022-06-15T01:27:11.650291Z",
     "start_time": "2022-06-15T01:27:09.555629Z"
    },
    "scrolled": false
   },
   "outputs": [
    {
     "data": {
      "text/plain": [
       "<matplotlib.axes._subplots.AxesSubplot at 0x7fa68e6a1780>"
      ]
     },
     "execution_count": 180,
     "metadata": {},
     "output_type": "execute_result"
    },
    {
     "data": {
      "image/png": "[encoded data removed]",
      "text/plain": [
       "<Figure size 720x1440 with 1 Axes>"
      ]
     },
     "metadata": {
      "needs_background": "light"
     },
     "output_type": "display_data"
    }
   ],
   "source": [
    "plt.figure(figsize=(10, 20))\n",
    "df.groupby(\"CUSTOMERNAME\").sum()['SALES'].sort_values(ascending=True).plot.barh()"
   ]
  },
  {
   "cell_type": "code",
   "execution_count": 196,
   "metadata": {
    "ExecuteTime": {
     "end_time": "2022-06-15T01:46:01.227921Z",
     "start_time": "2022-06-15T01:45:59.728931Z"
    },
    "scrolled": false
   },
   "outputs": [
    {
     "data": {
      "text/plain": [
       "<matplotlib.axes._subplots.AxesSubplot at 0x7fa68fd94470>"
      ]
     },
     "execution_count": 196,
     "metadata": {},
     "output_type": "execute_result"
    },
    {
     "data": {
      "image/png": "[encoded data removed]",
      "text/plain": [
       "<Figure size 720x504 with 1 Axes>"
      ]
     },
     "metadata": {
      "needs_background": "light"
     },
     "output_type": "display_data"
    }
   ],
   "source": [
    "plt.figure(figsize=(10, 7))\n",
    "df.groupby([\"YEAR_ID\",\"MONTH_ID\"]).count()['CUSTOMERNAME'].plot.bar()"
   ]
  },
  {
   "cell_type": "markdown",
   "metadata": {},
   "source": [
    "### WHAT: which product is selling the most?"
   ]
  },
  {
   "cell_type": "code",
   "execution_count": 181,
   "metadata": {
    "ExecuteTime": {
     "end_time": "2022-06-15T01:27:14.945086Z",
     "start_time": "2022-06-15T01:27:14.748991Z"
    },
    "scrolled": false
   },
   "outputs": [
    {
     "data": {
      "text/plain": [
       "<matplotlib.axes._subplots.AxesSubplot at 0x7fa6a8c28ba8>"
      ]
     },
     "execution_count": 181,
     "metadata": {},
     "output_type": "execute_result"
    },
    {
     "data": {
      "image/png": "[encoded data removed]",
      "text/plain": [
       "<Figure size 720x720 with 1 Axes>"
      ]
     },
     "metadata": {
      "needs_background": "light"
     },
     "output_type": "display_data"
    }
   ],
   "source": [
    "plt.figure(figsize=(10, 10))\n",
    "df.groupby(\"PRODUCTLINE\").sum()['SALES'].sort_values(ascending=True).plot.barh()"
   ]
  },
  {
   "cell_type": "markdown",
   "metadata": {},
   "source": [
    "### WHEN: which time frame has highest sales?"
   ]
  },
  {
   "cell_type": "code",
   "execution_count": 183,
   "metadata": {
    "ExecuteTime": {
     "end_time": "2022-06-15T01:27:39.310032Z",
     "start_time": "2022-06-15T01:27:38.971502Z"
    },
    "scrolled": false
   },
   "outputs": [
    {
     "data": {
      "text/plain": [
       "<matplotlib.axes._subplots.AxesSubplot at 0x7fa68dfbb7b8>"
      ]
     },
     "execution_count": 183,
     "metadata": {},
     "output_type": "execute_result"
    },
    {
     "data": {
      "image/png": "[encoded data removed]",
      "text/plain": [
       "<Figure size 1080x720 with 1 Axes>"
      ]
     },
     "metadata": {
      "needs_background": "light"
     },
     "output_type": "display_data"
    }
   ],
   "source": [
    "plt.figure(figsize=(15, 10))\n",
    "df.groupby([\"YEAR_ID\",\"MONTH_ID\"]).sum()[\"SALES\"].plot.bar()"
   ]
  },
  {
   "cell_type": "code",
   "execution_count": 184,
   "metadata": {
    "ExecuteTime": {
     "end_time": "2022-06-15T01:27:43.487974Z",
     "start_time": "2022-06-15T01:27:43.481475Z"
    }
   },
   "outputs": [],
   "source": [
    "products = list(set(df.PRODUCTLINE.values))"
   ]
  },
  {
   "cell_type": "code",
   "execution_count": 185,
   "metadata": {
    "ExecuteTime": {
     "end_time": "2022-06-15T01:27:43.974693Z",
     "start_time": "2022-06-15T01:27:43.963267Z"
    }
   },
   "outputs": [
    {
     "data": {
      "text/plain": [
       "['Trucks and Buses',\n",
       " 'Planes',\n",
       " 'Trains',\n",
       " 'Motorcycles',\n",
       " 'Classic Cars',\n",
       " 'Ships',\n",
       " 'Vintage Cars']"
      ]
     },
     "execution_count": 185,
     "metadata": {},
     "output_type": "execute_result"
    }
   ],
   "source": [
    "products"
   ]
  },
  {
   "cell_type": "code",
   "execution_count": 186,
   "metadata": {
    "ExecuteTime": {
     "end_time": "2022-06-15T01:27:45.783952Z",
     "start_time": "2022-06-15T01:27:45.464116Z"
    }
   },
   "outputs": [
    {
     "data": {
      "text/plain": [
       "<matplotlib.legend.Legend at 0x7fa68e2c3d68>"
      ]
     },
     "execution_count": 186,
     "metadata": {},
     "output_type": "execute_result"
    },
    {
     "data": {
      "image/png": "[encoded data removed]",
      "text/plain": [
       "<Figure size 1080x720 with 1 Axes>"
      ]
     },
     "metadata": {
      "needs_background": "light"
     },
     "output_type": "display_data"
    }
   ],
   "source": [
    "plt.figure(figsize=(15, 10))\n",
    "\n",
    "for product in products:\n",
    "    df[df['PRODUCTLINE'] == product].groupby([\"YEAR_ID\",\"MONTH_ID\"]).sum()[\"SALES\"].plot(label=product)\n",
    "\n",
    "plt.legend(loc=\"upper left\", fontsize='x-large')"
   ]
  },
  {
   "cell_type": "markdown",
   "metadata": {},
   "source": [
    "### WHERE: what countries have the best sales?"
   ]
  },
  {
   "cell_type": "code",
   "execution_count": 187,
   "metadata": {
    "ExecuteTime": {
     "end_time": "2022-06-15T01:28:14.337507Z",
     "start_time": "2022-06-15T01:28:14.072373Z"
    }
   },
   "outputs": [
    {
     "data": {
      "text/plain": [
       "<matplotlib.axes._subplots.AxesSubplot at 0x7fa68e488cc0>"
      ]
     },
     "execution_count": 187,
     "metadata": {},
     "output_type": "execute_result"
    },
    {
     "data": {
      "image/png": "[encoded data removed]",
      "text/plain": [
       "<Figure size 720x720 with 1 Axes>"
      ]
     },
     "metadata": {
      "needs_background": "light"
     },
     "output_type": "display_data"
    }
   ],
   "source": [
    "plt.figure(figsize=(10, 10))\n",
    "df.groupby(\"COUNTRY\").sum()['SALES'].sort_values(ascending=True).plot.barh()"
   ]
  },
  {
   "cell_type": "code",
   "execution_count": 203,
   "metadata": {
    "ExecuteTime": {
     "end_time": "2022-06-15T02:04:53.256527Z",
     "start_time": "2022-06-15T02:04:53.173562Z"
    }
   },
   "outputs": [
    {
     "data": {
      "text/plain": [
       "50"
      ]
     },
     "execution_count": 203,
     "metadata": {},
     "output_type": "execute_result"
    }
   ],
   "source": [
    "df.groupby([\"YEAR_ID\",\"MONTH_ID\"]).count()['CUSTOMERNAME']"
   ]
  },
  {
   "cell_type": "code",
   "execution_count": null,
   "metadata": {},
   "outputs": [],
   "source": []
  }
 ],
 "metadata": {
  "kernelspec": {
   "display_name": "learn-env",
   "language": "python",
   "name": "learn-env"
  },
  "language_info": {
   "codemirror_mode": {
    "name": "ipython",
    "version": 3
   },
   "file_extension": ".py",
   "mimetype": "text/x-python",
   "name": "python",
   "nbconvert_exporter": "python",
   "pygments_lexer": "ipython3",
   "version": "3.6.9"
  },
  "toc": {
   "base_numbering": 1,
   "nav_menu": {},
   "number_sections": true,
   "sideBar": true,
   "skip_h1_title": true,
   "title_cell": "Table of Contents",
   "title_sidebar": "Contents",
   "toc_cell": false,
   "toc_position": {
    "height": "calc(100% - 180px)",
    "left": "10px",
    "top": "150px",
    "width": "240.02px"
   },
   "toc_section_display": true,
   "toc_window_display": true
  }
 },
 "nbformat": 4,
 "nbformat_minor": 4
}
